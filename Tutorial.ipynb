{
 "cells": [
  {
   "cell_type": "markdown",
   "metadata": {},
   "source": [
    "## Blind Deconvolution tutorial\n",
    "\n",
    "We are given observations in the form\n",
    "\n",
    "$$y = h \\star x + n$$\n",
    "\n",
    "where $\\star$ represents 2D convolution, $n$ represents noise and $x$ is unknown. This is a classic problem in signal processing. For example, we'd like to recover the ground truth $x$ from a blurred noisy observations $y$. We would like to deduce the ground truth $x$ from our observations $y$.\n",
    "\n",
    "When $h$ is known *exactly*, this problem is relatively straightforward. In this case, we'd like to provide our estimate $\\widehat{x}$ with the equation\n",
    "\n",
    "$$\\widehat{x} = \\arg \\min_x ||y - Hx||_2^2 + \\lambda ||x||_2^2$$\n",
    "\n",
    "where we include a regularization term to limit the noise variance. For the algorithm used to solve this equation, see the [appendix](#Appendix)."
   ]
  },
  {
   "cell_type": "markdown",
   "metadata": {},
   "source": [
    "## noise free, $H$ known exactly\n",
    "When $H$ is known *exactly* and the observations are noise free, this is a simple problem. We can write our estimate as $$\\widehat{x} = H^{-1}y$$\n",
    "\n",
    "## noisy, $H$ known exactly\n",
    "As in Lab 4 for ECE 533, we find that we can estimate $x$ fairly well. This is shown with the example below\n",
    "\n",
    "![](tutorial_images/h_known.png)"
   ]
  },
  {
   "cell_type": "markdown",
   "metadata": {},
   "source": [
    "## $H$ unknown, no blind deconvolution\n",
    "When we add some *any* random noise to $H$ and use the same process as above, we find that our accuracy goes to pieces.\n",
    "\n",
    "If we perform the above process \n",
    "\n",
    "$$H = H_\\textrm{truth} + n$$\n",
    "\n",
    "where $n \\sim N\\left(0, I \\cdot 10^{-6}\\right) = N\\left(0, I \\sigma^2\\right)$ we get the following results:\n",
    "\n",
    "![](tutorial_images/H_unknown_L2.png)\n",
    "\n",
    "This corresponds to a very minor pertubtation in our knowledge of $H$ -- we're not adding much noise to our filter and we see very noisy results.\n",
    "\n",
    "In this, we are trying to perform *blind deconvolution.* This is exactly this problem, when an *estimate* of $H$ is given but it is not known exactly.\n",
    "\n",
    "## Blind deconvolution application\n",
    "Blind deconvolution needs to be performed all the time in the real world. The most prominent example is when NASA launched the Hubble telescope. Something happened during the launch process and the mirrors were *slightly* warped.\n",
    "\n",
    "This meant that they were observing the output as described in the form of $y$ and had an estimate for $h$ but could not find $h$ exactly due to the telescope being in space. Hence, they had to perform blind deconvolution to account for the very slightly warped mirror."
   ]
  },
  {
   "cell_type": "markdown",
   "metadata": {},
   "source": [
    "# Appendix\n",
    "## $\\ell_2$ Regularization "
   ]
  },
  {
   "cell_type": "code",
   "execution_count": null,
   "metadata": {
    "collapsed": true
   },
   "outputs": [],
   "source": []
  }
 ],
 "metadata": {
  "kernelspec": {
   "display_name": "Matlab",
   "language": "matlab",
   "name": "matlab_kernel"
  },
  "language_info": {
   "codemirror_mode": "Octave",
   "file_extension": ".m",
   "help_links": [
    {
     "text": "MetaKernel Magics",
     "url": "https://github.com/calysto/metakernel/blob/master/metakernel/magics/README.md"
    }
   ],
   "mimetype": "text/x-matlab",
   "name": "octave"
  }
 },
 "nbformat": 4,
 "nbformat_minor": 0
}
