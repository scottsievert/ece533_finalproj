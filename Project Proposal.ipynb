{
 "cells": [
  {
   "cell_type": "markdown",
   "metadata": {},
   "source": [
    "# Project Proposal\n",
    "*Team:* **Scott Sievert, Smita Bagewadi, Guneet Mehta**"
   ]
  },
  {
   "cell_type": "markdown",
   "metadata": {},
   "source": [
    "# Main idea\n",
    "We plan to tackle *blind deconvolution.* Given a good guess of the filter function $h$ and observations of the output $g$, is it possible to recover $f$ in\n",
    "\n",
    "$$g = h\\otimes f$$\n",
    "\n",
    "## Applications\n",
    "NASA faced the same thing when the Hubble mirror became flawed on launch. They even have an entire wikipedia section about the [flawed mirror]!\n",
    "\n",
    "[flawed mirror]:https://en.wikipedia.org/wiki/Hubble_Space_Telescope#Flawed_mirror\n",
    "\n",
    "## Approach\n",
    "When $h$ is known, we know how to deconvolve with the Weiner filter, which minimizes the MSE or can find an estimate $\\widehat{f}$.\n",
    "\n",
    "$$\\widehat{f} = \\arg \\min_f \\left|\\left|g - H f\\right|\\right|$$\n",
    "\n",
    "where $g$ and $f$ have been vectorized and $H$ is the matrix representing the convolution.\n",
    "\n",
    "## References\n",
    "1. [Wikipedia -- Blind deconvolution]. This includes some links to academic papers; probably grok one of those.\n",
    "\n",
    "[Wikipedia -- Blind deconvolution]:https://en.wikipedia.org/wiki/Blind_deconvolution"
   ]
  },
  {
   "cell_type": "code",
   "execution_count": null,
   "metadata": {
    "collapsed": true
   },
   "outputs": [],
   "source": []
  }
 ],
 "metadata": {
  "kernelspec": {
   "display_name": "Python 3",
   "language": "python",
   "name": "python3"
  },
  "language_info": {
   "codemirror_mode": {
    "name": "ipython",
    "version": 3
   },
   "file_extension": ".py",
   "mimetype": "text/x-python",
   "name": "python",
   "nbconvert_exporter": "python",
   "pygments_lexer": "ipython3",
   "version": "3.4.3"
  }
 },
 "nbformat": 4,
 "nbformat_minor": 0
}
