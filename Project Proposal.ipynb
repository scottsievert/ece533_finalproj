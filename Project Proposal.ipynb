{
 "cells": [
  {
   "cell_type": "markdown",
   "metadata": {},
   "source": [
    "# Project Proposal\n",
    "*Team:* **Scott Sievert, Smita Bagewadi, Guneet Mehta**"
   ]
  },
  {
   "cell_type": "markdown",
   "metadata": {},
   "source": [
    "# Problem statement\n",
    "We plan to tackle *blind deconvolution.* Given a good guess of the filter function $h$, the goal is to estimate $f$ in\n",
    "\n",
    "$$g(x, y) = (h\\otimes f)(x, y) + n(x, y)$$\n",
    "\n",
    "where $g$ is the observed output and $n$ is some noise. This problem is most tractabe when an estimate of $h$, the point spread function (PSF), is given.\n",
    "\n",
    "This problem is most tractable when certain assumptions are made. Assumptions might be made that the noise is white noise and that the image lies in a certain class. Generally, the more assumptions are made the better your algorithm performs.\n",
    "\n",
    "## Applications\n",
    "NASA faced the same thing when the Hubble mirror became flawed on launch. They even have an entire wikipedia section about the [flawed mirror]!\n",
    "\n",
    "[flawed mirror]:https://en.wikipedia.org/wiki/Hubble_Space_Telescope#Flawed_mirror\n",
    "\n",
    "## Approach\n",
    "When $h$ is known, we know how to deconvolve with the Weiner filter, which minimizes the MSE or can find an estimate $\\widehat{f}$.\n",
    "\n",
    "$$\\widehat{f} = \\arg \\min_f \\left|\\left|g - H f\\right|\\right|$$\n",
    "\n",
    "where $g$ and $f$ have been vectorized and $H$ is the matrix representing the convolution. Other methods to minimize the error exist, such as [maximum a posteriori estimation] (MAP).\n",
    "\n",
    "[maximum a posteriori estimation]:https://en.wikipedia.org/wiki/Maximum_a_posteriori_estimation\n",
    "\n",
    "## References\n",
    "1. [Wikipedia -- Blind deconvolution]. This includes some links to academic papers; probably grok one of those.\n",
    "2. [Understanding and evaluating blind deconvolution algorithms] -- academic paper published in 2009.\n",
    "2. [1988 paper] with a simple iterative method for blind deconvolution\n",
    "\n",
    "[1988 paper]:http://www.nuigalway.ie/research/applied_optics/people/chris/chrispapers/Paper046.pdf\n",
    "[Wikipedia -- Blind deconvolution]:https://en.wikipedia.org/wiki/Blind_deconvolution\n",
    "[Understanding and evaluating blind deconvolution algorithms]:http://www.wisdom.weizmann.ac.il/~levina/papers/deconvLevinEtalCVPR09.pdf\n"
   ]
  },
  {
   "cell_type": "code",
   "execution_count": null,
   "metadata": {
    "collapsed": true
   },
   "outputs": [],
   "source": []
  }
 ],
 "metadata": {
  "kernelspec": {
   "display_name": "Python 3",
   "language": "python",
   "name": "python3"
  },
  "language_info": {
   "codemirror_mode": {
    "name": "ipython",
    "version": 3
   },
   "file_extension": ".py",
   "mimetype": "text/x-python",
   "name": "python",
   "nbconvert_exporter": "python",
   "pygments_lexer": "ipython3",
   "version": "3.4.3"
  }
 },
 "nbformat": 4,
 "nbformat_minor": 0
}
